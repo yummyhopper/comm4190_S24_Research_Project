{
 "cells": [
  {
   "cell_type": "markdown",
   "id": "c79ba6a5-2f58-4427-910c-e1a4336df242",
   "metadata": {},
   "source": [
    "Research Question:\n",
    "\n",
    "How does the use of AI systems integrate into digital marketing campaigns? From customer segmentation to predictive analytics to content generation, where will machine learning algorithms and AI systems be most complementary? Where will it replace traditional methods like regression and A/B testing and will these systems be able to integrate with each other and cut traditional methods out entirely?"
   ]
  },
  {
   "cell_type": "markdown",
   "id": "8af05ec0-d3f1-4bed-a4cb-7929f7291e5a",
   "metadata": {},
   "source": [
    "persuasive messaging\n",
    "- generalized AI email marketing sucks\n",
    "- email marketing campaign with AI and Langchain"
   ]
  },
  {
   "cell_type": "code",
   "execution_count": null,
   "id": "ba93705b-305f-4bb0-9128-a5392fcdcd1f",
   "metadata": {},
   "outputs": [],
   "source": []
  }
 ],
 "metadata": {
  "citation-manager": {
   "items": {}
  },
  "kernelspec": {
   "display_name": "Python 3.11 (COMM4190)",
   "language": "python",
   "name": "comm4190"
  },
  "language_info": {
   "codemirror_mode": {
    "name": "ipython",
    "version": 3
   },
   "file_extension": ".py",
   "mimetype": "text/x-python",
   "name": "python",
   "nbconvert_exporter": "python",
   "pygments_lexer": "ipython3",
   "version": "3.11.7"
  }
 },
 "nbformat": 4,
 "nbformat_minor": 5
}
