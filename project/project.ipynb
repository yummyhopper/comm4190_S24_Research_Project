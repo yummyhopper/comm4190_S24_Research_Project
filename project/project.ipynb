{
 "cells": [
  {
   "cell_type": "code",
   "execution_count": 1,
   "id": "f0f98d52-3d62-40de-8d2d-ea9c5efbd555",
   "metadata": {},
   "outputs": [],
   "source": [
    "import os\n",
    "import requests\n",
    "import csv\n",
    "import random\n",
    "\n",
    "from dotenv import load_dotenv\n",
    "from klaviyo_api import KlaviyoAPI\n",
    "\n",
    "from langchain.prompts import PromptTemplate\n",
    "from langchain_core.prompts.chat import ChatPromptTemplate\n",
    "from langchain.chat_models import ChatOpenAI\n",
    "from langchain.chains import LLMChain\n",
    "\n",
    "from langchain_core.output_parsers import StrOutputParser\n",
    "from langchain_core.runnables import (RunnablePassthrough, RunnableLambda, RunnableParallel)"
   ]
  },
  {
   "cell_type": "code",
   "execution_count": 2,
   "id": "026de839-ddff-4853-aa3f-76bd469bfd01",
   "metadata": {},
   "outputs": [],
   "source": [
    "_ = load_dotenv()"
   ]
  },
  {
   "cell_type": "code",
   "execution_count": 3,
   "id": "5abe97e3-948f-4311-958e-e5998ebae327",
   "metadata": {},
   "outputs": [],
   "source": [
    "# Extract Klaviyo (private) API key from .env file\n",
    "klaviyo_key='pk_a7344fe3a27b6f571d6873734a388ad807'"
   ]
  },
  {
   "cell_type": "code",
   "execution_count": 4,
   "id": "e3a5ade6-c9f8-42b1-b70f-28a6c1587dcb",
   "metadata": {},
   "outputs": [],
   "source": [
    "# Instantiate the Klaviyo Python API with the API key\n",
    "\n",
    "klaviyo = KlaviyoAPI(klaviyo_key, max_delay=60, max_retries=3, test_host=None)"
   ]
  },
  {
   "cell_type": "code",
   "execution_count": 5,
   "id": "79398f0f-14ac-483c-927e-31bf351a78b5",
   "metadata": {},
   "outputs": [],
   "source": [
    "# Extract profile data and events for a Klaviyo ID as a string we can feed to LangChain\n",
    "\n",
    "def get_customer_data(custid):\n",
    "    profile=klaviyo.Profiles.get_profile(custid)\n",
    "    data = profile['data']\n",
    "    attributes = data['attributes']\n",
    "    properties = attributes['properties']\n",
    "    location = attributes['location']\n",
    "    info = {key: value for key, value in attributes.items() if key not in ['properties', 'location']}\n",
    "    combined_dict = {**properties, **location, **info}\n",
    "    return combined_dict"
   ]
  },
  {
   "cell_type": "code",
   "execution_count": 6,
   "id": "85da4be2-114f-49ec-8c9d-1c1aea013ae5",
   "metadata": {},
   "outputs": [],
   "source": [
    "grab_attention = ChatPromptTemplate.from_template(\n",
    "    '''\n",
    "Write a short 2 line introduction to an email with a hook from Max's Store to {first_name}. The email should be pitching the release and special offer of a new line of shoes called the MegaShoe 1s. Write it according to the following rules:\n",
    "- Infer gender and age from {first_name} and tailor your style to who you're addressing\n",
    "- If the customer has a high {clv}, offer them a better deal than a customer with a lower {clv}\n",
    "- If a customer has a high {churn_risk} use more urgent wording in your hook\n",
    "- If a customer has a higher {upsales_propensity} offer a more expensive product\n",
    "- Tease the {recommended_incentive}\n",
    "    \n",
    "Remember not to mention these properties explicitly, but craft your message to resonate with these insights.\n",
    "No emojis and keep it short and simple. Write like a 7th grader to ensure your email is easily understood by a wide audience.\n",
    "Get creative, don't just fall into bland platitudes, and you don't have to follow the examples but use them to guide you.\n",
    "ONLY WRITE ONE DRAFT\n",
    "__\n",
    "\n",
    "Examples: \n",
    "Hi Doug, We're excited to introduce our new product, the MegaShoe 1s, and we're offering you an exclusive 20% discount for a limited time as one of our valued customers!\n",
    "Hi Debby, Get ready to upgrade your style with our latest innovation - the MegaShoe 1s Supreme! As a loyal customer, we're offering you a special deal of buy one, get one 50% off for a limited time only.\n",
    "Hi Kendrick, Don't miss out on our newest arrival - the MegaShoe 1s Pro! With its advanced features and sleek design, it's a must-have for anyone on-the-go. And as a valued customer, we're giving you an exclusive 30% off your first purchase.\n",
    "\n",
    "'''\n",
    ")\n",
    "\n",
    "build_anticipation = ChatPromptTemplate.from_template(\n",
    "    '''\n",
    "Write an the body of an email from Max's Store to a customer following up on the introduction of the new MegaShoe 1s. The body should:\n",
    "- Establish the customer's need for a new shoe alternative\n",
    "- Emphasize the key features and benefits of the MegaShoe 1s\n",
    "- Highlight the special offer and create a sense of urgency\n",
    "- Encourage the customer to take action and make a purchase\n",
    "- Infer gender and age from {first_name} and tailor your style to who you're addressing\n",
    "- Consider the customer's {clv}, {churn_risk}, and {upsales_propensity} to tailor the tone and content\n",
    "    \n",
    "Remember not to mention these properties explicitly, but craft your message to resonate with these insights.\n",
    "No emojis and keep it short and simple. Write like a 7th grader to ensure your email is easily understood by a wide audience.\n",
    "Get creative, don't just fall into bland platitudes, and you don't have to follow the examples but use them to guide you.\n",
    "DO NOT MENTION THE CUSTOMER'S NAME HERE. YOU ARE WRITING ONE BODY PARAGRAPH NOT AN INTRO OR CONCLUSION. LITERALLY JUST ONE PARAGRAPH.\n",
    "ONLY WRITE ONE DRAFT\n",
    "__\n",
    "\n",
    "Examples:\n",
    "- We've just launched our revolutionary MegaShoe 1s, designed to keep you comfortable and confident all day long. Whether you're hitting the gym or running errands, these shoes have got you covered. Here's what you need to know: Comfort and support: Soft materials and arch support for happy feet. Stylish and versatile: Cute design that looks great for any occasion. Durable and long-lasting: Built to withstand your active lifestyle. \n",
    "- Sick of wearing out your favorite kicks too fast? We feel you! That's why we created the MegaShoe 1s - the ultimate shoe for the active dude on the go! These bad boys are packed with: Comfy tech: Cushioning and breathability for happy feet. Supportive vibes: Stability features for high-impact activities. Fresh style: Sleek design that's perfect for the gym or just chillin'.\n",
    "- Are you tired of wearing out your favorite shoes too quickly? Do you need a new go-to pair that can keep up with your active lifestyle? We've got you covered! Our brand-new MegaShoe 1s are designed to provide unparalleled comfort, support, and durability. With their cutting-edge technology and sleek design, they're perfect for fitness enthusiasts like yourself. Here's what sets them apart: Long-lasting comfort: Breathable materials and cushioning ensure your feet stay happy all day. Superior support: Stability features and arch support for high-impact activities. Style and versatility: Sleek design that looks great for both workouts and everyday wear. \n",
    "'''\n",
    ")\n",
    "\n",
    "call_to_action = ChatPromptTemplate.from_template(\n",
    "    '''\n",
    "Craft a compelling call to action that directs the customer on what to do next. Use actionable language that conveys urgency and benefit. Ensure the call to action is simple, direct, and easy to follow. \n",
    "- Infer gender and age from {first_name} and tailor your style to who you're addressing\n",
    "- Consider the customer's {clv}, {churn_risk}, and {upsales_propensity} to tailor the tone and content\n",
    "- Offer the {recommended_incentive}\n",
    "- Be decisive and confident\n",
    "\n",
    "Remember not to mention these properties explicitly, but craft your message to resonate with these insights.\n",
    "No emojis and keep it short and simple. Write like a 7th grader to ensure your email is easily understood by a wide audience.\n",
    "Get creative, don't just fall into bland platitudes, and you don't have to follow the examples but use them to guide you.\n",
    "DO NOT MENTION THE CUSTOMER'S NAME HERE.\n",
    "ONLY WRITE ONE DRAFT\n",
    "__   \n",
    "\n",
    "Example:\n",
    "- Don't Miss Out! Grab 10% off your first MegaShoe 1s purchase and get the comfort and support you need. Limited time offer - Shop Now and Get Moving! Best Regards, Your Friends at Max's Store\n",
    "- Treat Yourself to the Best! Enjoy 12% off your first MegaShoe 1s purchase and discover the perfect blend of style and comfort. Shop Now and Elevate Your Everyday! Sincerely, your friends at Max's Store\n",
    "- Upgrade Your Shoe Game Now! Get 15% off your first MegaShoe 1s purchase and experience the ultimate in comfort and performance. Shop Now and Take Your Fitness to the Next Level! Warmly, your friends at Max's Store\n",
    "    '''\n",
    ")\n",
    "\n",
    "subject_line = ChatPromptTemplate.from_template(\n",
    "    '''\n",
    "Write a short but eye-catching subject line to an email from Max's Store mentioning the customer by {first_name} and the {recommended_incentive}.\n",
    "- No emojis and keep it short and simple. Write like a 7th grader to ensure your email is easily understood by a wide audience.\n",
    "- Get creative, don't just fall into bland platitudes, and you don't have to follow the examples but use them to guide you.\n",
    "- ONLY WRITE ONE DRAFT\n",
    "__\n",
    "\n",
    "Examples:\n",
    "- Billy, 24 Hours to Claim Your Exclusive Gift!\n",
    "- Hey Megan, We've Got a Shoe-tastic Deal for You! Coupon Inside!\n",
    "- AJ, Unlock Your VIP Access: Free Shipping on MegaShoe 1s Awaits\n",
    "    '''\n",
    ")"
   ]
  },
  {
   "cell_type": "code",
   "execution_count": 7,
   "id": "71059f80-a4db-43a6-990f-796b757983ce",
   "metadata": {},
   "outputs": [
    {
     "name": "stderr",
     "output_type": "stream",
     "text": [
      "/usr/local/anaconda3/share/jupyter/venv/py311_4130_v2/lib/python3.11/site-packages/langchain_core/_api/deprecation.py:117: LangChainDeprecationWarning: The class `langchain_community.chat_models.openai.ChatOpenAI` was deprecated in langchain-community 0.0.10 and will be removed in 0.2.0. An updated version of the class exists in the langchain-openai package and should be used instead. To use it run `pip install -U langchain-openai` and import as `from langchain_openai import ChatOpenAI`.\n",
      "  warn_deprecated(\n"
     ]
    }
   ],
   "source": [
    "# Create the chat model:\n",
    "model = ChatOpenAI(model_name=\"gpt-4\", temperature=0.2)\n",
    "\n",
    "# Create the sub-chains:\n",
    "grab_attention_chain = (grab_attention | model | StrOutputParser())\n",
    "\n",
    "build_anticipation_chain = (build_anticipation | model | StrOutputParser())\n",
    "\n",
    "call_to_action_chain = (call_to_action | model | StrOutputParser())\n",
    "\n",
    "subject_line_chain = (subject_line | model | StrOutputParser())"
   ]
  },
  {
   "cell_type": "markdown",
   "id": "2e707960-9eb6-4419-8673-8f544888ba79",
   "metadata": {},
   "source": [
    "### Create a Function That Builds One Email from the Chains"
   ]
  },
  {
   "cell_type": "code",
   "execution_count": 8,
   "id": "ea3934c4-52f7-4bcd-8c12-20454ad5e712",
   "metadata": {
    "scrolled": true
   },
   "outputs": [],
   "source": [
    "# define a function that generates an email for a given customer based on their Klaviyo ID\n",
    "def generate_email(custid):\n",
    "    \n",
    "    # Fetch customer data\n",
    "    customer_data = get_customer_data(custid)\n",
    "    \n",
    "    # Execute sub-chains\n",
    "    attention_text = grab_attention_chain.invoke(customer_data)\n",
    "    anticipation_text = build_anticipation_chain.invoke(customer_data)\n",
    "    action_text = call_to_action_chain.invoke(customer_data)\n",
    "    subject = subject_line_chain.invoke(customer_data)\n",
    "\n",
    "    # Combine the outputs to form the complete email\n",
    "    email = f\"{subject}\\n\\n{attention_text}\\n\\n{anticipation_text}\\n\\n{action_text}\"\n",
    "\n",
    "    return email"
   ]
  },
  {
   "cell_type": "code",
   "execution_count": 9,
   "id": "3c0ae3d6-330e-4e6c-8613-1984878d1941",
   "metadata": {},
   "outputs": [
    {
     "data": {
      "text/plain": [
       "['01HVFKKS3976M2BYYKRH2YE5BW',\n",
       " '01HVFKKSM9HTV1TPEASMH694MG',\n",
       " '01HVFKKSPHKNC5PV0VNN14TSJ4',\n",
       " '01HVFKKVK1HECSCYB6VVGHSSRQ',\n",
       " '01HVFMJRBBN12VGRB95NHWKBTS',\n",
       " '01HVFMJREQ54N2M732CSFX450J',\n",
       " '01HVFMJS7THFNM4R99JRWKFS1T',\n",
       " '01HVFMJSDSK7YF1K052T4S0M44',\n",
       " '01HVFMJSP8CEQK5V0YFT85VYDE',\n",
       " '01HVFMJSPXX0W8DVR30YR1T37Q',\n",
       " '01HVFMJTF6C2WHD7J4MZ5R9PAX',\n",
       " '01HVFMJTRJVBPBCY763A4M35F7',\n",
       " '01HVFMJV39QFH8AYF7D11B0KWD',\n",
       " '01HVFMJV9JTCGPE7CAYEJ6X11T']"
      ]
     },
     "execution_count": 9,
     "metadata": {},
     "output_type": "execute_result"
    }
   ],
   "source": [
    "# Get profiles from Klaviyo into a dictionary\n",
    "profiles = klaviyo.Profiles.get_profiles()\n",
    "\n",
    "# Initialize an empty list to store customer IDs\n",
    "cust_ids = []\n",
    "\n",
    "# Iterate over profiles and extract customer IDs\n",
    "for profile in profiles['data']:\n",
    "    cust_ids.append(profile['id'])\n",
    "\n",
    "cust_ids"
   ]
  },
  {
   "cell_type": "code",
   "execution_count": 10,
   "id": "b8e6ab14-7599-46cf-8d87-221581d58a93",
   "metadata": {},
   "outputs": [
    {
     "name": "stdout",
     "output_type": "stream",
     "text": [
      "Updated profile for ID 01HVFKKS3976M2BYYKRH2YE5BW with properties: {'clv': 500, 'churn_risk': 'low', 'upsales_propensity': '80%', 'recommended_incentive': 'coupon'}\n",
      "Updated profile for ID 01HVFKKSM9HTV1TPEASMH694MG with properties: {'clv': 500, 'churn_risk': 'low', 'upsales_propensity': '80%', 'recommended_incentive': 'gift'}\n",
      "Updated profile for ID 01HVFKKSPHKNC5PV0VNN14TSJ4 with properties: {'clv': 100, 'churn_risk': 'low', 'upsales_propensity': '80%', 'recommended_incentive': 'discount'}\n",
      "Updated profile for ID 01HVFKKVK1HECSCYB6VVGHSSRQ with properties: {'clv': 500, 'churn_risk': 'high', 'upsales_propensity': '80%', 'recommended_incentive': 'discount'}\n",
      "Updated profile for ID 01HVFMJRBBN12VGRB95NHWKBTS with properties: {'clv': 1000, 'churn_risk': 'high', 'upsales_propensity': '20%', 'recommended_incentive': 'discount'}\n",
      "Updated profile for ID 01HVFMJREQ54N2M732CSFX450J with properties: {'clv': 100, 'churn_risk': 'high', 'upsales_propensity': '50%', 'recommended_incentive': 'gift'}\n",
      "Updated profile for ID 01HVFMJS7THFNM4R99JRWKFS1T with properties: {'clv': 100, 'churn_risk': 'high', 'upsales_propensity': '50%', 'recommended_incentive': 'coupon'}\n",
      "Updated profile for ID 01HVFMJSDSK7YF1K052T4S0M44 with properties: {'clv': 100, 'churn_risk': 'low', 'upsales_propensity': '80%', 'recommended_incentive': 'coupon'}\n",
      "Updated profile for ID 01HVFMJSP8CEQK5V0YFT85VYDE with properties: {'clv': 1000, 'churn_risk': 'low', 'upsales_propensity': '80%', 'recommended_incentive': 'gift'}\n",
      "Updated profile for ID 01HVFMJSPXX0W8DVR30YR1T37Q with properties: {'clv': 1000, 'churn_risk': 'high', 'upsales_propensity': '20%', 'recommended_incentive': 'discount'}\n",
      "Updated profile for ID 01HVFMJTF6C2WHD7J4MZ5R9PAX with properties: {'clv': 500, 'churn_risk': 'low', 'upsales_propensity': '80%', 'recommended_incentive': 'gift'}\n",
      "Updated profile for ID 01HVFMJTRJVBPBCY763A4M35F7 with properties: {'clv': 1000, 'churn_risk': 'high', 'upsales_propensity': '20%', 'recommended_incentive': 'gift'}\n",
      "Updated profile for ID 01HVFMJV39QFH8AYF7D11B0KWD with properties: {'clv': 500, 'churn_risk': 'low', 'upsales_propensity': '20%', 'recommended_incentive': 'discount'}\n",
      "Updated profile for ID 01HVFMJV9JTCGPE7CAYEJ6X11T with properties: {'clv': 1000, 'churn_risk': 'low', 'upsales_propensity': '20%', 'recommended_incentive': 'coupon'}\n"
     ]
    }
   ],
   "source": [
    "def update_customer_profiles(cust_ids):\n",
    "    churn_risks = ['low', 'medium', 'high']\n",
    "    upsales_propensities = ['20%', '50%', '80%']\n",
    "    recommended_incentives = ['gift', 'coupon', 'discount']\n",
    "    clv_values = [100, 500, 1000]\n",
    "\n",
    "    emails = {}\n",
    "\n",
    "    for custid in cust_ids:\n",
    "        custid_str = str(custid)  # Ensure the custid is a string\n",
    "        # Generate random properties\n",
    "        properties = {\n",
    "            'clv': random.choice(clv_values),\n",
    "            'churn_risk': random.choice(churn_risks),\n",
    "            'upsales_propensity': random.choice(upsales_propensities),\n",
    "            'recommended_incentive': random.choice(recommended_incentives)\n",
    "        }\n",
    "\n",
    "        # Prepare the payload for the API call\n",
    "        payload = {\n",
    "            \"data\": {\n",
    "                \"type\": \"profile\",\n",
    "                \"id\": custid_str,\n",
    "                \"attributes\": {\n",
    "                    'properties': properties\n",
    "                }\n",
    "            }\n",
    "        }\n",
    "\n",
    "        # Update the profile\n",
    "        klaviyo.Profiles.update_profile(custid_str, payload)\n",
    "        print(f\"Updated profile for ID {custid_str} with properties: {properties}\")\n",
    "\n",
    "# Assuming cust_ids is a list of customer IDs\n",
    "update_customer_profiles(cust_ids)"
   ]
  },
  {
   "cell_type": "code",
   "execution_count": 11,
   "id": "7fb4ec66-78c9-40ba-af58-d9d4c0d7c34a",
   "metadata": {
    "scrolled": true
   },
   "outputs": [
    {
     "name": "stdout",
     "output_type": "stream",
     "text": [
      "['\"Russell, Your Exclusive Max\\'s Store Coupon is Waiting!\"\\n\\nHello Russell, \\n\\nStep into the future with our brand new MegaShoe 1s! As a valued customer, we\\'re offering you an exclusive deal that\\'s too good to resist. But hurry, this special offer won\\'t last long!\\n\\nTired of shoes that just don\\'t cut it? We\\'ve got the perfect solution for you! Introducing our latest innovation, the MegaShoe 1s. These shoes are designed to provide ultimate comfort, support, and durability, making them perfect for your active lifestyle. They feature soft, breathable materials and arch support for all-day comfort. Plus, their stylish design makes them versatile enough for any occasion. But that\\'s not all! For a limited time, we\\'re offering a special deal on the MegaShoe 1s. Don\\'t miss out on this opportunity to upgrade your shoe game. Act now and experience the difference of the MegaShoe 1s!\\n\\nAct Now! Snag a whopping 20% off your first MegaShoe 1s purchase and step into a world of unparalleled comfort and style. This offer won\\'t last forever - Shop Now and Step Up Your Game! Cheers, Your Pals at Max\\'s Store.', '\"Ayumu, Your Special Gift from Max\\'s Store is Waiting!\"\\n\\nHello Ayumu, Step into the future with our latest release, the MegaShoe 1s! As one of our top customers, we\\'re offering you an exclusive first dibs and a special discount that you won\\'t want to miss. Plus, a surprise gift awaits you!\\n\\nAre your current shoes not keeping up with your active lifestyle? We\\'ve got just the solution for you! Introducing our latest innovation, the MegaShoe 1s. These shoes are not just any ordinary pair; they\\'re designed to provide ultimate comfort, durability, and style. With their advanced cushioning technology, your feet will feel pampered even during high-impact activities. Plus, their trendy design ensures you look great, whether you\\'re hitting the gym or just out for a casual stroll. But that\\'s not all! For a limited time, we\\'re offering an exclusive 20% discount on the MegaShoe 1s. Don\\'t miss out on this fantastic deal! It\\'s time to upgrade your shoe game and experience the difference with MegaShoe 1s. Act now and make the smart choice for your feet.\\n\\nScore Big Savings Today! Enjoy a whopping 20% off your first MegaShoe 1s purchase and step into a world of unparalleled comfort and style. Don\\'t wait - Shop Now and Start Your Journey to Better Footwear! Yours Truly, Your Friends at Max\\'s Store.', '\"Karine, Your Exclusive Max\\'s Store Discount Awaits!\"\\n\\nHello Karine, Step into the future with our brand new MegaShoe 1s! As one of our top customers, we\\'re giving you the first chance to grab this exclusive shoe with an unbeatable discount. Don\\'t wait, this offer won\\'t last long!\\n\\nAre your current shoes not keeping up with your active lifestyle? We understand the struggle, and that\\'s why we\\'ve introduced the new MegaShoe 1s. These shoes are not just about style, but also about comfort, durability, and support. They\\'re designed with soft materials for all-day comfort and arch support to keep your feet happy. Plus, their cute design is versatile enough for any occasion. But that\\'s not all! They\\'re also built to last, so you can count on them to withstand your busy schedule. And here\\'s the best part: we\\'re currently offering a special deal on the MegaShoe 1s. But hurry, this offer won\\'t last forever! So why wait? Step into comfort and style with the MegaShoe 1s today.\\n\\nStep Up Your Style! Snag 20% off your first MegaShoe 1s purchase and experience the perfect balance of comfort and chic. Limited time offer - Shop Now and Strut Your Stuff! Yours Truly, Your Friends at Max\\'s Store.', \"None, Don't Miss Out! Your Exclusive 20% Off at Max's Store Expires Soon!\\n\\nHello there, We're thrilled to announce the launch of our latest product, the MegaShoe 1s! As a token of our appreciation for your loyalty, we're offering you an exclusive deal that you won't want to miss.\\n\\nAre your current shoes not keeping up with your active lifestyle? We understand the struggle, and that's why we've introduced the MegaShoe 1s. These shoes are not just footwear, they're a game-changer. They're designed with soft, breathable materials for ultimate comfort, and they offer superior arch support for those high-impact activities. Plus, their sleek design makes them versatile enough for both the gym and casual outings. But here's the best part - for a limited time, we're offering an exclusive 80% discount on the MegaShoe 1s. This is a deal you don't want to miss! So why wait? Step into comfort and style with the MegaShoe 1s and elevate your shoe game today.\\n\\nAct Now! Score a whopping 20% off your first MegaShoe 1s purchase. Experience unmatched comfort and style that will keep you ahead of the game. This offer won't last forever - Shop Now and Step Up Your Style! Yours Truly, Your Friends at Max's Store.\", \"Ivor, Don't Miss Out! Your Exclusive Max's Store Discount Awaits!\\n\\nHello Ivor, We're thrilled to announce the launch of our latest footwear innovation, the MegaShoe 1s. As one of our esteemed customers, we're offering you an exclusive, limited-time deal you won't want to miss!\\n\\nAre your current shoes not keeping up with your active lifestyle? We've got the perfect solution for you! Introducing our latest innovation, the MegaShoe 1s, designed to offer you the ultimate comfort, durability, and style. These shoes come with a soft, breathable material that ensures your feet stay comfortable all day long. They also feature superior arch support, perfect for high-impact activities. But that's not all! The MegaShoe 1s are not just functional, they're also fashionable. With their sleek design, they're versatile enough to be worn for workouts, errands, or even casual outings. And here's the best part: for a limited time, we're offering a 20% discount on these amazing shoes. But hurry, this offer won't last forever! So why wait? Step into comfort and style with the MegaShoe 1s today.\\n\\nAct Now! Score a whopping 20% off your first purchase of our top-tier products. Experience the high-quality you deserve. This is a limited-time offer, so don't wait! Shop Now and Elevate Your Lifestyle! Best Wishes, Your Comrades at the Premium Store.\", '\"Gary, Your Special Gift Awaits at Max\\'s Store!\"\\n\\nHi Gary, Time is running out to snag our latest sensation - the MegaShoe 1s! As one of our top customers, we\\'re offering you an unbeatable deal you won\\'t want to miss. Plus, there\\'s a surprise gift waiting for you.\\n\\nTired of shoes that just can\\'t keep up with your active lifestyle? We\\'ve got the perfect solution for you! Introducing our brand-new MegaShoe 1s, meticulously designed to offer you the ultimate comfort, support, and durability you\\'ve been longing for. These shoes are packed with features that make them a game-changer: Unmatched comfort with soft, breathable materials and cushioning that keeps your feet happy all day long. Superior support with stability features and arch support that are perfect for high-impact activities. And let\\'s not forget the sleek design that\\'s versatile enough for both your workouts and everyday wear. But that\\'s not all! For a limited time, we\\'re offering a special deal that you won\\'t want to miss. This is your chance to experience the MegaShoe 1s difference. Don\\'t wait, grab your pair today and step into a new level of comfort and style!\\n\\nStep Up Your Style! Snag a whopping 20% off your first MegaShoe 1s purchase and feel the difference of true comfort. Don\\'t wait - Shop Now and Stride with Confidence! Yours Truly, Your Pals at Max\\'s Store.', '\"Oleg, Your Personalized Coupon Awaits at Max\\'s Store!\"\\n\\nSubject: Exclusive Offer Just for You, Oleg!\\n\\nDear Oleg, Step into the future with our brand new MegaShoe 1s! As one of our top customers, we\\'re offering you an unbeatable deal - a whopping 30% off your first pair. But hurry, this offer won\\'t last forever!\\n\\nFeeling the need for a shoe upgrade? We\\'ve got just the thing for you! Introducing our latest innovation - the MegaShoe 1s. These aren\\'t your average sneakers. They\\'re a blend of comfort, style, and durability that\\'s perfect for your active lifestyle. With their soft, breathable materials, your feet will feel pampered even during the most intense activities. Plus, the MegaShoe 1s come with superior arch support, ensuring you can stay on the move without discomfort. But it\\'s not all about function - these shoes are a fashion statement too. Their sleek design is versatile enough for both the gym and casual outings. And here\\'s the best part - we\\'re offering a special deal just for you! But hurry, this offer won\\'t last forever. So why wait? Step into comfort and style with the MegaShoe 1s today!\\n\\nStep Up Your Style! Snag 20% off your first MegaShoe 1s purchase and experience the perfect balance of comfort and fashion. Don\\'t wait - Shop Now and Boost Your Confidence! Yours Truly, Your Friends at Max\\'s Store.', '\"John, Your Exclusive Max\\'s Store Coupon Awaits! Don\\'t Miss Out!\"\\n\\nSubject: Exclusive Offer Just for You, John! \\n\\nHi John, Step into the future with our brand new MegaShoe 1s! As one of our top customers, we\\'re offering you an unbeatable deal you won\\'t want to miss - but hurry, this offer won\\'t last long!\\n\\nAre your current shoes not keeping up with your active lifestyle? We understand the struggle and that\\'s why we\\'ve introduced the new MegaShoe 1s. These shoes are not just footwear, they\\'re a game changer. They\\'re designed with a unique blend of comfort and durability, ensuring your feet stay happy even during the most intense activities. The MegaShoe 1s are crafted with soft, breathable materials for ultimate comfort, and feature superior arch support for high-impact activities. Plus, their sleek design makes them a stylish choice for any occasion. But that\\'s not all - for a limited time, we\\'re offering a special deal on the MegaShoe 1s. This offer won\\'t last forever, so don\\'t miss out on the chance to step up your shoe game. We encourage you to seize this opportunity and experience the difference the MegaShoe 1s can make.\\n\\nTime to Step Up! Snag 20% off your first MegaShoe 1s purchase and feel the difference in every stride. Don\\'t wait - Shop Now and Start Your Journey to Better Comfort! Yours Truly, Your Friends at Max\\'s Store.', \"Asher, Your Special Gift from Max's Store is Waiting!\\n\\nHey Asher, Time is running out to snag our latest sensation - the MegaShoe 1s! As one of our top customers, we're offering you an unbeatable deal and a surprise gift with your purchase. Don't wait, this offer won't last long!\\n\\nAre your current kicks not cutting it anymore? We've got just the solution for you! Introducing our latest innovation, the MegaShoe 1s, designed to keep pace with your active lifestyle. These shoes are not just about style, they're about comfort, durability, and versatility. With their advanced cushioning technology, your feet will feel pampered even during high-impact activities. The MegaShoe 1s also offer superior arch support, ensuring your comfort throughout the day. But that's not all! They're built to last, so you won't have to worry about replacing them anytime soon. And let's not forget their sleek design, making them the perfect fit for both your workout and casual outfits. Now, here's the best part: we're offering a special deal on the MegaShoe 1s, but only for a limited time. So, don't wait too long, or you might miss out on this fantastic offer. It's time to step up your shoe game with the MegaShoe 1s!\\n\\nAct Now! Snag 20% off your first MegaShoe 1s purchase and feel the difference of true comfort. Limited time offer - Shop Now and Step Up Your Game! Kind Regards, Your Friends at Max's Store.\", '\"Xanthus, Your Exclusive Discount at Max\\'s Store is Waiting!\"\\n\\nHello Xanthus, Step into the future with our latest MegaShoe 1s! As one of our top-tier customers, we\\'re offering you an unbeatable deal you won\\'t want to miss.\\n\\nAre you in need of a shoe that can keep up with your active lifestyle? Look no further! Our newly launched MegaShoe 1s are designed with you in mind. These shoes offer unparalleled comfort with their soft, breathable materials and arch support, ensuring your feet stay happy all day long. But that\\'s not all! The MegaShoe 1s are not just comfortable, they\\'re also stylish and versatile, making them perfect for any occasion. Plus, they\\'re built to last, so you won\\'t have to worry about them wearing out too quickly. And here\\'s the best part: for a limited time, we\\'re offering a 20% discount on the MegaShoe 1s. But hurry, this offer won\\'t last forever! So why wait? Step into comfort and style with the MegaShoe 1s today.\\n\\nAct Now! Snag 20% off your first Xanthus purchase and experience the luxury you deserve. Limited time offer - Shop Now and Elevate Your Style! Yours Truly, Your Friends at Xanthus.', '\"Raja, Your Special Gift from Max\\'s Store is Waiting!\"\\n\\nHello Raja, We\\'re thrilled to present our latest footwear sensation - the MegaShoe 1s! As one of our esteemed customers, we\\'re offering you an exclusive deal that you won\\'t want to miss. Plus, there\\'s a surprise gift waiting for you.\\n\\nAre your current shoes not keeping up with your active lifestyle? We understand the struggle! That\\'s why we\\'re excited to introduce our new MegaShoe 1s, the ultimate footwear solution for your needs. These shoes are not just comfortable, but also offer superior support and durability. With their innovative design, they\\'re perfect for both your workout sessions and daily errands. Here\\'s what makes them stand out: Unmatched comfort: Our shoes are made with soft, breathable materials that keep your feet cozy all day. Superior support: The MegaShoe 1s come with enhanced arch support, perfect for high-impact activities. Durability: These shoes are designed to last, ensuring you get the most out of your purchase. Stylish: With their sleek design, these shoes are a great addition to any outfit. And here\\'s the best part - we\\'re offering a special discount on the MegaShoe 1s for a limited time! Don\\'t miss out on this opportunity to upgrade your shoe game. Act now and experience the difference!\\n\\nJumpstart Your Journey! Snag 20% off your first purchase and unlock the gift of ultimate comfort. Act Fast - This Offer Won\\'t Last! Cheers, Your Comrades at Max\\'s Store.', '\"Tyler, Your Special Gift from Max\\'s Store is Waiting!\"\\n\\nHey Tyler, We\\'re thrilled to announce the launch of our latest sensation - the MegaShoe 1s! As one of our top customers, we\\'re offering you an unbeatable deal - a whopping 30% off your first pair. But hurry, this offer won\\'t last long!\\n\\nTired of shoes that just can\\'t keep up with your active lifestyle? We\\'ve got the solution for you! Introducing our latest innovation, the MegaShoe 1s. These shoes are designed with your comfort and durability in mind, featuring soft materials and arch support to keep your feet happy, no matter how busy your day gets. Plus, their sleek design ensures you\\'ll look great whether you\\'re hitting the gym or just running errands. But that\\'s not all - for a limited time, we\\'re offering a special 20% off on the MegaShoe 1s. This is an offer you don\\'t want to miss, so act fast! Your feet will thank you.\\n\\nAct Now! Snag 20% off your first MegaShoe 1s purchase and experience the pinnacle of comfort and style. This offer won\\'t last forever - Shop Now and Step Up Your Game! Yours Truly, Your Pals at Max\\'s Store.', '\"Hey Ira, Your Exclusive Discount at Max\\'s Store is Waiting!\"\\n\\nHello Ira, We\\'re thrilled to introduce the MegaShoe 1s, a game-changer in footwear fashion! As one of our esteemed customers, we\\'re offering you an exclusive, time-sensitive deal that you won\\'t want to miss.\\n\\nAre your current shoes not keeping up with your active lifestyle? We understand the struggle! That\\'s why we\\'re excited to introduce our latest innovation, the MegaShoe 1s. These shoes are not just footwear, they\\'re a game-changer. With their advanced comfort technology, they provide unparalleled support and cushioning for your feet. They\\'re also designed to be durable, so they can withstand even the most intense activities. But that\\'s not all! They also boast a sleek, versatile design that\\'s perfect for both workouts and everyday wear. And here\\'s the best part: for a limited time, we\\'re offering a special 20% discount on the MegaShoe 1s. But hurry, this offer won\\'t last long! So why wait? Upgrade your shoe game today with the MegaShoe 1s. Trust us, your feet will thank you.\\n\\nAct Now! Snag 20% off your first purchase and feel the difference in quality. This offer won\\'t last forever - Shop Now and Experience the Upgrade! Yours Truly, Your Friends at Max\\'s Store.', '\"John, Your Exclusive Max\\'s Store Coupon is Waiting!\"\\n\\nSubject: Exclusive Offer Just for You, John! \\n\\nHi John, Step into the future with our brand new MegaShoe 1s! As one of our top customers, we\\'re giving you first dibs and an unbeatable deal you won\\'t want to miss.\\n\\nAre your current shoes not keeping up with your active lifestyle? We understand the struggle, and that\\'s why we\\'re excited to introduce our new MegaShoe 1s. These shoes are designed with your comfort and durability in mind, featuring soft, breathable materials for all-day comfort and arch support for those high-impact activities. But it\\'s not just about comfort and support, the MegaShoe 1s also boast a sleek design that\\'s perfect for any occasion, whether you\\'re hitting the gym or just out and about. And here\\'s the best part: for a limited time, we\\'re offering a special 20% discount on the MegaShoe 1s. But hurry, this offer won\\'t last forever! So why wait? Upgrade your shoe game today with the MegaShoe 1s and experience the difference for yourself.\\n\\nSeize the Day! Snag 20% off your first MegaShoe 1s purchase and feel the difference in every step. Limited time offer - Act Now and Step Up Your Game! Yours Truly, Your Pals at Max\\'s Store.']\n"
     ]
    }
   ],
   "source": [
    "emails = []\n",
    "\n",
    "for customer_id in cust_ids:\n",
    "    message = generate_email(customer_id)  # Generate the email from the data directly, without fetching again\n",
    "    emails.append(message)\n",
    "    \n",
    "print(emails)\n"
   ]
  },
  {
   "cell_type": "code",
   "execution_count": 12,
   "id": "a4bdc28c-87b7-4903-99da-fe98a0f6cd17",
   "metadata": {},
   "outputs": [],
   "source": [
    "with open('emails.csv', 'w', newline='') as csvfile:\n",
    "    writer = csv.writer(csvfile)\n",
    "    writer.writerow([\"Emails\"])  # header row\n",
    "    for email in emails:\n",
    "        writer.writerow([email])"
   ]
  }
 ],
 "metadata": {
  "citation-manager": {
   "items": {}
  },
  "kernelspec": {
   "display_name": "Python 3.11 (Max - Klaviyo)",
   "language": "python",
   "name": "comm4190_max"
  },
  "language_info": {
   "codemirror_mode": {
    "name": "ipython",
    "version": 3
   },
   "file_extension": ".py",
   "mimetype": "text/x-python",
   "name": "python",
   "nbconvert_exporter": "python",
   "pygments_lexer": "ipython3",
   "version": "3.11.7"
  }
 },
 "nbformat": 4,
 "nbformat_minor": 5
}
